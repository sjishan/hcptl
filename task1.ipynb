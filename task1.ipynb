{
 "cells": [
  {
   "cell_type": "code",
   "execution_count": 31,
   "metadata": {
    "collapsed": true
   },
   "outputs": [],
   "source": [
    "from elasticsearch import Elasticsearch\n",
    "from elasticsearch.helpers import bulk\n",
    "\n",
    "import esinitialization as esinit # contains all the functions to create index and mapping, clean rows, delete index\n",
    "import esquery as esq # contains all the functions to cater the queries"
   ]
  },
  {
   "cell_type": "markdown",
   "metadata": {},
   "source": [
    "### Initiate Elastic Search Instance"
   ]
  },
  {
   "cell_type": "code",
   "execution_count": 32,
   "metadata": {},
   "outputs": [
    {
     "name": "stdout",
     "output_type": "stream",
     "text": [
      "Index exist: Deletion of index in process\n",
      "New index created\n",
      "New mapping created\n"
     ]
    }
   ],
   "source": [
    "es = Elasticsearch(hosts=[\"127.0.0.1:9200\"], timeout=5000)\n",
    "esinit.clean_index(es)\n",
    "esinit.new_index_mapping(es)"
   ]
  },
  {
   "cell_type": "markdown",
   "metadata": {},
   "source": [
    "### Load the data and bulk insertion to Elastic Search DB"
   ]
  },
  {
   "cell_type": "code",
   "execution_count": 33,
   "metadata": {
    "collapsed": true
   },
   "outputs": [],
   "source": [
    "log_list = []\n",
    "\n",
    "with open(\"git-events.log\", \"r\") as log_file:\n",
    "    log_string = log_file.readlines()\n",
    "    \n",
    "for log in log_string:\n",
    "    log_list.append(esinit.set_row(log))"
   ]
  },
  {
   "cell_type": "code",
   "execution_count": 34,
   "metadata": {},
   "outputs": [
    {
     "data": {
      "text/plain": [
       "{'_index': 'events',\n",
       " '_source': {'created_at': '2017-09-19T19:39:24.312Z',\n",
       "  'event': 'issue',\n",
       "  'repo': 'proj1',\n",
       "  'team': 'B'},\n",
       " '_type': 'event'}"
      ]
     },
     "execution_count": 34,
     "metadata": {},
     "output_type": "execute_result"
    }
   ],
   "source": [
    "log_list[182]"
   ]
  },
  {
   "cell_type": "code",
   "execution_count": 35,
   "metadata": {
    "collapsed": true
   },
   "outputs": [],
   "source": [
    "success, _ = bulk(es, log_list, index = \"events\", raise_on_error = True)"
   ]
  },
  {
   "cell_type": "markdown",
   "metadata": {},
   "source": [
    "### task3 - Answering the queries "
   ]
  },
  {
   "cell_type": "code",
   "execution_count": 37,
   "metadata": {},
   "outputs": [
    {
     "name": "stdout",
     "output_type": "stream",
     "text": [
      "1. Total number of teams: 4\n"
     ]
    }
   ],
   "source": [
    "# 1. Total number of teams\n",
    "esq.total_number_teams(es)"
   ]
  },
  {
   "cell_type": "code",
   "execution_count": 38,
   "metadata": {},
   "outputs": [
    {
     "name": "stdout",
     "output_type": "stream",
     "text": [
      "2. Number of active repos in each team: \n",
      "\tTeam: A\t\tActive repos: 3\n",
      "\tTeam: D\t\tActive repos: 2\n",
      "\tTeam: B\t\tActive repos: 2\n",
      "\tTeam: C\t\tActive repos: 4\n",
      "\n",
      "3. Total number of events per team: \n",
      "\tTeam: A\t\tEvents: 2537\n",
      "\tTeam: D\t\tEvents: 2531\n",
      "\tTeam: B\t\tEvents: 2462\n",
      "\tTeam: C\t\tEvents: 2360\n"
     ]
    }
   ],
   "source": [
    "# 2. Number of active repos in each team\n",
    "# 3. Total number of events per team\n",
    "esq.events_repos_teams(es)"
   ]
  },
  {
   "cell_type": "code",
   "execution_count": 39,
   "metadata": {},
   "outputs": [
    {
     "name": "stdout",
     "output_type": "stream",
     "text": [
      "4. Total Number of events overall: 10378\n"
     ]
    }
   ],
   "source": [
    "# 4. Total number of events overall\n",
    "esq.total_number_events(es)"
   ]
  },
  {
   "cell_type": "code",
   "execution_count": 40,
   "metadata": {},
   "outputs": [
    {
     "name": "stdout",
     "output_type": "stream",
     "text": [
      "5. Frequency of event types overall: \n",
      "\tEvent type: push\t\tEvents: 3820\n",
      "\tEvent type: issue\t\tEvents: 2769\n",
      "\tEvent type: pull-request\t\tEvents: 1942\n",
      "\tEvent type: issue-comment\t\tEvents: 1847\n"
     ]
    }
   ],
   "source": [
    "# 5. Frequence of event types overall\n",
    "esq.event_frequency_overall(es)"
   ]
  },
  {
   "cell_type": "code",
   "execution_count": 41,
   "metadata": {},
   "outputs": [
    {
     "name": "stdout",
     "output_type": "stream",
     "text": [
      "6. Frequency of event types per team: \n",
      "\tTeam: A\n",
      "\t\tEvent type: push\t\tEvents: 970\n",
      "\t\tEvent type: issue\t\tEvents: 691\n",
      "\t\tEvent type: pull-request\t\tEvents: 531\n",
      "\t\tEvent type: issue-comment\t\tEvents: 468\n",
      "\tTeam: D\n",
      "\t\tEvent type: push\t\tEvents: 975\n",
      "\t\tEvent type: issue\t\tEvents: 718\n",
      "\t\tEvent type: issue-comment\t\tEvents: 483\n",
      "\t\tEvent type: pull-request\t\tEvents: 470\n",
      "\tTeam: B\n",
      "\t\tEvent type: push\t\tEvents: 976\n",
      "\t\tEvent type: issue\t\tEvents: 701\n",
      "\t\tEvent type: pull-request\t\tEvents: 475\n",
      "\t\tEvent type: issue-comment\t\tEvents: 437\n",
      "\tTeam: C\n",
      "\t\tEvent type: push\t\tEvents: 899\n",
      "\t\tEvent type: issue\t\tEvents: 659\n",
      "\t\tEvent type: pull-request\t\tEvents: 466\n",
      "\t\tEvent type: issue-comment\t\tEvents: 459\n"
     ]
    }
   ],
   "source": [
    "# 6. Frequence of event types per team\n",
    "esq.event_frequency_team(es)"
   ]
  },
  {
   "cell_type": "code",
   "execution_count": 42,
   "metadata": {},
   "outputs": [
    {
     "name": "stdout",
     "output_type": "stream",
     "text": [
      "7. Frequency of event types per repo: \n",
      "\tRepo: proj1\n",
      "\t\tEvent type: push\t\tEvents: 1581\n",
      "\t\tEvent type: issue\t\tEvents: 1145\n",
      "\t\tEvent type: pull-request\t\tEvents: 796\n",
      "\t\tEvent type: issue-comment\t\tEvents: 735\n",
      "\tRepo: proj2\n",
      "\t\tEvent type: push\t\tEvents: 1512\n",
      "\t\tEvent type: issue\t\tEvents: 1072\n",
      "\t\tEvent type: pull-request\t\tEvents: 732\n",
      "\t\tEvent type: issue-comment\t\tEvents: 717\n",
      "\tRepo: proj3\n",
      "\t\tEvent type: push\t\tEvents: 502\n",
      "\t\tEvent type: issue\t\tEvents: 396\n",
      "\t\tEvent type: pull-request\t\tEvents: 299\n",
      "\t\tEvent type: issue-comment\t\tEvents: 291\n",
      "\tRepo: proj4\n",
      "\t\tEvent type: push\t\tEvents: 225\n",
      "\t\tEvent type: issue\t\tEvents: 156\n",
      "\t\tEvent type: pull-request\t\tEvents: 115\n",
      "\t\tEvent type: issue-comment\t\tEvents: 104\n"
     ]
    }
   ],
   "source": [
    "# 7. Frequency of event types per repo\n",
    "esq.event_frequency_repo(es)"
   ]
  },
  {
   "cell_type": "code",
   "execution_count": 43,
   "metadata": {},
   "outputs": [
    {
     "name": "stdout",
     "output_type": "stream",
     "text": [
      "8. Average Time Difference between events per team: \n",
      "\tTeam: A\t\tTime Difference: 43.1398496241 milliseconds\n",
      "\tTeam: D\t\tTime Difference: 43.4074074074 milliseconds\n",
      "\tTeam: B\t\tTime Difference: 44.2611046736 milliseconds\n",
      "\tTeam: C\t\tTime Difference: 46.2408376963 milliseconds\n"
     ]
    }
   ],
   "source": [
    "# 8. Average time difference between events per team\n",
    "esq.event_time_difference_team(es)"
   ]
  },
  {
   "cell_type": "code",
   "execution_count": 44,
   "metadata": {},
   "outputs": [
    {
     "name": "stdout",
     "output_type": "stream",
     "text": [
      "9. Average Time Difference between same events per team: \n",
      "\tTeam: A\n",
      "\t\tEvent: push\t\tTime Difference: 117.918556701 milliseconds\n",
      "\t\tEvent: issue\t\tTime Difference: 163.004341534 milliseconds\n",
      "\t\tEvent: pull-request\t\tTime Difference: 213.870056497 milliseconds\n",
      "\t\tEvent: issue-comment\t\tTime Difference: 244.925213675 milliseconds\n",
      "\tTeam: D\n",
      "\t\tEvent: push\t\tTime Difference: 117.801025641 milliseconds\n",
      "\t\tEvent: issue\t\tTime Difference: 157.240947075 milliseconds\n",
      "\t\tEvent: issue-comment\t\tTime Difference: 231.548654244 milliseconds\n",
      "\t\tEvent: pull-request\t\tTime Difference: 241.559574468 milliseconds\n",
      "\tTeam: B\n",
      "\t\tEvent: push\t\tTime Difference: 117.278688525 milliseconds\n",
      "\t\tEvent: issue\t\tTime Difference: 160.921540656 milliseconds\n",
      "\t\tEvent: pull-request\t\tTime Difference: 232.096842105 milliseconds\n",
      "\t\tEvent: issue-comment\t\tTime Difference: 261.519450801 milliseconds\n",
      "\tTeam: C\n",
      "\t\tEvent: push\t\tTime Difference: 126.104560623 milliseconds\n",
      "\t\tEvent: issue\t\tTime Difference: 173.298937785 milliseconds\n",
      "\t\tEvent: pull-request\t\tTime Difference: 244.987124464 milliseconds\n",
      "\t\tEvent: issue-comment\t\tTime Difference: 250.047930283 milliseconds\n"
     ]
    }
   ],
   "source": [
    "# 9. Average time difference between same events per team\n",
    "esq.same_event_time_difference_team(es)"
   ]
  },
  {
   "cell_type": "code",
   "execution_count": null,
   "metadata": {
    "collapsed": true
   },
   "outputs": [],
   "source": []
  }
 ],
 "metadata": {
  "kernelspec": {
   "display_name": "Python 2",
   "language": "python",
   "name": "python2"
  },
  "language_info": {
   "codemirror_mode": {
    "name": "ipython",
    "version": 2
   },
   "file_extension": ".py",
   "mimetype": "text/x-python",
   "name": "python",
   "nbconvert_exporter": "python",
   "pygments_lexer": "ipython2",
   "version": "2.7.13"
  }
 },
 "nbformat": 4,
 "nbformat_minor": 2
}
