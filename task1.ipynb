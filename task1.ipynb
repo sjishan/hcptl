{
 "cells": [
  {
   "cell_type": "code",
   "execution_count": 1,
   "metadata": {},
   "outputs": [],
   "source": [
    "from elasticsearch import Elasticsearch\n",
    "from elasticsearch.helpers import bulk\n",
    "\n",
    "import esinitialization as esinit # contains all the functions to create index and mapping, clean rows, delete index\n",
    "import esquery as esq # contains all the functions to cater the queries"
   ]
  },
  {
   "cell_type": "markdown",
   "metadata": {},
   "source": [
    "### Initiate Elastic Search Instance"
   ]
  },
  {
   "cell_type": "code",
   "execution_count": 2,
   "metadata": {},
   "outputs": [
    {
     "name": "stdout",
     "output_type": "stream",
     "text": [
      "Index exist: Deletion of index in process\n",
      "New index created\n",
      "New mapping created\n"
     ]
    }
   ],
   "source": [
    "es = Elasticsearch(hosts=[\"127.0.0.1:9200\"], timeout=5000)\n",
    "esinit.clean_index(es)\n",
    "esinit.new_index_mapping(es)"
   ]
  },
  {
   "cell_type": "markdown",
   "metadata": {},
   "source": [
    "### Load the data and bulk insertion to Elastic Search DB"
   ]
  },
  {
   "cell_type": "code",
   "execution_count": 3,
   "metadata": {
    "collapsed": true
   },
   "outputs": [],
   "source": [
    "log_list = []\n",
    "\n",
    "with open(\"git-events.log\", \"r\") as log_file:\n",
    "    log_string = log_file.readlines()\n",
    "    \n",
    "for log in log_string:\n",
    "    log_list.append(esinit.set_row(log))"
   ]
  },
  {
   "cell_type": "code",
   "execution_count": 4,
   "metadata": {},
   "outputs": [
    {
     "data": {
      "text/plain": [
       "{'_index': 'events',\n",
       " '_source': {'created_at': '2017-09-19T19:39:24.312Z',\n",
       "  'event': 'issue',\n",
       "  'repo': 'proj1',\n",
       "  'team': 'B'},\n",
       " '_type': 'event'}"
      ]
     },
     "execution_count": 4,
     "metadata": {},
     "output_type": "execute_result"
    }
   ],
   "source": [
    "log_list[182]"
   ]
  },
  {
   "cell_type": "code",
   "execution_count": 5,
   "metadata": {
    "collapsed": true
   },
   "outputs": [],
   "source": [
    "success, _ = bulk(es, log_list, index = \"events\", raise_on_error = True)"
   ]
  },
  {
   "cell_type": "markdown",
   "metadata": {},
   "source": [
    "### task3 - Answering the queries "
   ]
  },
  {
   "cell_type": "code",
   "execution_count": 6,
   "metadata": {},
   "outputs": [
    {
     "name": "stdout",
     "output_type": "stream",
     "text": [
      "1. Total number of teams: 4\n"
     ]
    }
   ],
   "source": [
    "# 1. Total number of teams\n",
    "esq.total_number_teams(es)"
   ]
  },
  {
   "cell_type": "code",
   "execution_count": 7,
   "metadata": {},
   "outputs": [
    {
     "name": "stdout",
     "output_type": "stream",
     "text": [
      "2. Number of active repos in each team: \n",
      "\tTeam: D\t\tActive repos: 2\n",
      "\tTeam: A\t\tActive repos: 3\n",
      "\tTeam: B\t\tActive repos: 2\n",
      "\tTeam: C\t\tActive repos: 4\n",
      "\n",
      "3. Total number of events per team: \n",
      "\tTeam: D\t\tEvents: 2452\n",
      "\tTeam: A\t\tEvents: 2415\n",
      "\tTeam: B\t\tEvents: 2360\n",
      "\tTeam: C\t\tEvents: 2284\n"
     ]
    }
   ],
   "source": [
    "# 2. Number of active repos in each team\n",
    "# 3. Total number of events per team\n",
    "esq.events_repos_teams(es)"
   ]
  },
  {
   "cell_type": "code",
   "execution_count": 8,
   "metadata": {},
   "outputs": [
    {
     "name": "stdout",
     "output_type": "stream",
     "text": [
      "4. Total Number of events overall: 10016\n"
     ]
    }
   ],
   "source": [
    "# 4. Total number of events overall\n",
    "esq.total_number_events(es)"
   ]
  },
  {
   "cell_type": "code",
   "execution_count": 9,
   "metadata": {},
   "outputs": [
    {
     "name": "stdout",
     "output_type": "stream",
     "text": [
      "5. Frequency of event types overall: \n",
      "\tEvent type: push\t\tEvents: 3913\n",
      "\tEvent type: issue\t\tEvents: 2839\n",
      "\tEvent type: pull-request\t\tEvents: 1998\n",
      "\tEvent type: issue-comment\t\tEvents: 1894\n"
     ]
    }
   ],
   "source": [
    "# 5. Frequence of event types overall\n",
    "esq.event_frequency_overall(es)"
   ]
  },
  {
   "cell_type": "code",
   "execution_count": 10,
   "metadata": {},
   "outputs": [
    {
     "name": "stdout",
     "output_type": "stream",
     "text": [
      "6. Frequency of event types per team: \n",
      "\tTeam: D\n",
      "\t\tEvent type: push\t\tEvents: 1003\n",
      "\t\tEvent type: issue\t\tEvents: 730\n",
      "\t\tEvent type: issue-comment\t\tEvents: 501\n",
      "\t\tEvent type: pull-request\t\tEvents: 490\n",
      "\tTeam: A\n",
      "\t\tEvent type: push\t\tEvents: 989\n",
      "\t\tEvent type: issue\t\tEvents: 708\n",
      "\t\tEvent type: pull-request\t\tEvents: 547\n",
      "\t\tEvent type: issue-comment\t\tEvents: 479\n",
      "\tTeam: B\n",
      "\t\tEvent type: push\t\tEvents: 999\n",
      "\t\tEvent type: issue\t\tEvents: 718\n",
      "\t\tEvent type: pull-request\t\tEvents: 487\n",
      "\t\tEvent type: issue-comment\t\tEvents: 442\n",
      "\tTeam: C\n",
      "\t\tEvent type: push\t\tEvents: 922\n",
      "\t\tEvent type: issue\t\tEvents: 683\n",
      "\t\tEvent type: pull-request\t\tEvents: 474\n",
      "\t\tEvent type: issue-comment\t\tEvents: 472\n"
     ]
    }
   ],
   "source": [
    "# 6. Frequence of event types per team\n",
    "esq.event_frequency_team(es)"
   ]
  },
  {
   "cell_type": "code",
   "execution_count": 11,
   "metadata": {},
   "outputs": [
    {
     "name": "stdout",
     "output_type": "stream",
     "text": [
      "7. Frequency of event types per repo: \n",
      "\tRepo: proj1\n",
      "\t\tEvent type: push\t\tEvents: 1606\n",
      "\t\tEvent type: issue\t\tEvents: 1171\n",
      "\t\tEvent type: pull-request\t\tEvents: 819\n",
      "\t\tEvent type: issue-comment\t\tEvents: 751\n",
      "\tRepo: proj2\n",
      "\t\tEvent type: push\t\tEvents: 1572\n",
      "\t\tEvent type: issue\t\tEvents: 1099\n",
      "\t\tEvent type: pull-request\t\tEvents: 760\n",
      "\t\tEvent type: issue-comment\t\tEvents: 741\n",
      "\tRepo: proj3\n",
      "\t\tEvent type: push\t\tEvents: 504\n",
      "\t\tEvent type: issue\t\tEvents: 408\n",
      "\t\tEvent type: pull-request\t\tEvents: 303\n",
      "\t\tEvent type: issue-comment\t\tEvents: 295\n",
      "\tRepo: proj4\n",
      "\t\tEvent type: push\t\tEvents: 231\n",
      "\t\tEvent type: issue\t\tEvents: 161\n",
      "\t\tEvent type: pull-request\t\tEvents: 116\n",
      "\t\tEvent type: issue-comment\t\tEvents: 107\n"
     ]
    }
   ],
   "source": [
    "# 7. Frequency of event types per repo\n",
    "esq.event_frequency_repo(es)"
   ]
  },
  {
   "cell_type": "code",
   "execution_count": 12,
   "metadata": {},
   "outputs": [
    {
     "name": "stdout",
     "output_type": "stream",
     "text": [
      "8. Average Time Difference between events per team: \n",
      "\tTeam: D\t\tTime Difference: 42.176276166 milliseconds\n",
      "\tTeam: A\t\tTime Difference: 42.1917707568 milliseconds\n",
      "\tTeam: B\t\tTime Difference: 43.3837429112 milliseconds\n",
      "\tTeam: C\t\tTime Difference: 45.0141176471 milliseconds\n"
     ]
    }
   ],
   "source": [
    "# 8. Average time difference between events per team\n",
    "esq.event_time_difference_team(es)"
   ]
  },
  {
   "cell_type": "code",
   "execution_count": 13,
   "metadata": {},
   "outputs": [
    {
     "name": "stdout",
     "output_type": "stream",
     "text": [
      "9. Average Time Difference between same events per team: \n",
      "\tTeam: D\n",
      "\t\tEvent: push\t\tTime Difference: 114.266467066 milliseconds\n",
      "\t\tEvent: issue\t\tTime Difference: 156.73388203 milliseconds\n",
      "\t\tEvent: issue-comment\t\tTime Difference: 228.092 milliseconds\n",
      "\t\tEvent: pull-request\t\tTime Difference: 233.010224949 milliseconds\n",
      "\tTeam: A\n",
      "\t\tEvent: push\t\tTime Difference: 115.54757085 milliseconds\n",
      "\t\tEvent: issue\t\tTime Difference: 162.366336634 milliseconds\n",
      "\t\tEvent: pull-request\t\tTime Difference: 207.994505495 milliseconds\n",
      "\t\tEvent: issue-comment\t\tTime Difference: 239.80125523 milliseconds\n",
      "\tTeam: B\n",
      "\t\tEvent: push\t\tTime Difference: 114.778557114 milliseconds\n",
      "\t\tEvent: issue\t\tTime Difference: 158.40027894 milliseconds\n",
      "\t\tEvent: pull-request\t\tTime Difference: 236.111111111 milliseconds\n",
      "\t\tEvent: issue-comment\t\tTime Difference: 259.410430839 milliseconds\n",
      "\tTeam: C\n",
      "\t\tEvent: push\t\tTime Difference: 124.618892508 milliseconds\n",
      "\t\tEvent: issue\t\tTime Difference: 168.196480938 milliseconds\n",
      "\t\tEvent: pull-request\t\tTime Difference: 241.095137421 milliseconds\n",
      "\t\tEvent: issue-comment\t\tTime Difference: 242.687898089 milliseconds\n"
     ]
    }
   ],
   "source": [
    "# 9. Average time difference between same events per team\n",
    "esq.same_event_time_difference_team(es)"
   ]
  },
  {
   "cell_type": "code",
   "execution_count": null,
   "metadata": {
    "collapsed": true
   },
   "outputs": [],
   "source": []
  }
 ],
 "metadata": {
  "kernelspec": {
   "display_name": "Python 2",
   "language": "python",
   "name": "python2"
  },
  "language_info": {
   "codemirror_mode": {
    "name": "ipython",
    "version": 2
   },
   "file_extension": ".py",
   "mimetype": "text/x-python",
   "name": "python",
   "nbconvert_exporter": "python",
   "pygments_lexer": "ipython2",
   "version": "2.7.13"
  }
 },
 "nbformat": 4,
 "nbformat_minor": 2
}
