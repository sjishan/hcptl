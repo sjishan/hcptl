{
 "cells": [
  {
   "cell_type": "code",
   "execution_count": 1,
   "metadata": {
    "collapsed": true
   },
   "outputs": [],
   "source": [
    "from elasticsearch import Elasticsearch\n",
    "from Queue import Queue\n",
    "from threading import Thread\n",
    "import time\n",
    "\n",
    "\n",
    "import esinitialization as esinit # contains all the functions to create index and mapping, clean rows, delete index\n",
    "import esquery as esq # contains all the functions to cater the queries"
   ]
  },
  {
   "cell_type": "markdown",
   "metadata": {},
   "source": [
    "### Initiate Elastic Search Instance"
   ]
  },
  {
   "cell_type": "code",
   "execution_count": 2,
   "metadata": {},
   "outputs": [
    {
     "name": "stdout",
     "output_type": "stream",
     "text": [
      "Index exist: Deletion of index in process\n",
      "New index created\n",
      "New mapping created\n"
     ]
    }
   ],
   "source": [
    "es = Elasticsearch(hosts=[\"127.0.0.1:9200\"], timeout=5000)\n",
    "esinit.clean_index(es)\n",
    "esinit.new_index_mapping(es)"
   ]
  },
  {
   "cell_type": "markdown",
   "metadata": {},
   "source": [
    "### Stream data insertion to Elastic Search DB"
   ]
  },
  {
   "cell_type": "code",
   "execution_count": 3,
   "metadata": {
    "collapsed": true
   },
   "outputs": [],
   "source": [
    "q = Queue(maxsize=0) #queue to keep the incoming event data\n",
    "num_threads = 10\n",
    "\n",
    "# Function to get the event and store it in the queue\n",
    "def get_stream(file_location):\n",
    "    file_location.seek(0,2)\n",
    "    timeout = time.time() + 10 # Iteration ends 10 seconds after stream ends\n",
    "    while True:\n",
    "        line = file_location.readline()\n",
    "        if line:\n",
    "            timeout = time.time() + 10 # Iteration ends 10 seconds after stream ends\n",
    "        else:\n",
    "            if(time.time() > timeout):\n",
    "                break\n",
    "            else:\n",
    "                continue\n",
    "        q.put(line)\n",
    "\n",
    "# Target function for threading, cleans the data and index it is the elastic search DB\n",
    "def es_insert(q):\n",
    "    while True:\n",
    "        clean_log = esinit.set_row(q.get())\n",
    "        es.index(index= clean_log['_index'], body= clean_log['_source'], doc_type= clean_log['_type'])\n",
    "        q.task_done()"
   ]
  },
  {
   "cell_type": "code",
   "execution_count": 4,
   "metadata": {
    "collapsed": true
   },
   "outputs": [],
   "source": [
    "logfile = open(\"streaming_git.log\", \"r\")\n",
    "\n",
    "get_stream(logfile)\n",
    "\n",
    "\n",
    "for i in range(num_threads):\n",
    "    worker = Thread(target= es_insert, args=(q,))\n",
    "    worker.setDaemon(True)\n",
    "    worker.start()\n",
    "\n",
    "q.join()\n",
    "    \n",
    "logfile.close()"
   ]
  },
  {
   "cell_type": "markdown",
   "metadata": {},
   "source": [
    "### task3 - Answering the queries"
   ]
  },
  {
   "cell_type": "code",
   "execution_count": 5,
   "metadata": {},
   "outputs": [
    {
     "name": "stdout",
     "output_type": "stream",
     "text": [
      "1. Total number of teams: 5\n"
     ]
    }
   ],
   "source": [
    "# 1. Total number of teams\n",
    "esq.total_number_teams(es)"
   ]
  },
  {
   "cell_type": "code",
   "execution_count": 6,
   "metadata": {},
   "outputs": [
    {
     "name": "stdout",
     "output_type": "stream",
     "text": [
      "2. Number of active repos in each team: \n",
      "\tTeam: A\t\tActive repos: 1\n",
      "\tTeam: C\t\tActive repos: 4\n",
      "\tTeam: D\t\tActive repos: 2\n",
      "\tTeam: E\t\tActive repos: 3\n",
      "\tTeam: B\t\tActive repos: 3\n",
      "\n",
      "3. Total number of events per team: \n",
      "\tTeam: A\t\tEvents: 57\n",
      "\tTeam: C\t\tEvents: 56\n",
      "\tTeam: D\t\tEvents: 52\n",
      "\tTeam: E\t\tEvents: 51\n",
      "\tTeam: B\t\tEvents: 48\n"
     ]
    }
   ],
   "source": [
    "# 2. Number of active repos in each team\n",
    "# 3. Total number of events per team\n",
    "esq.events_repos_teams(es)"
   ]
  },
  {
   "cell_type": "code",
   "execution_count": 7,
   "metadata": {},
   "outputs": [
    {
     "name": "stdout",
     "output_type": "stream",
     "text": [
      "4. Total Number of events overall: 271\n"
     ]
    }
   ],
   "source": [
    "# 4. Total number of events overall\n",
    "esq.total_number_events(es)"
   ]
  },
  {
   "cell_type": "code",
   "execution_count": 8,
   "metadata": {},
   "outputs": [
    {
     "name": "stdout",
     "output_type": "stream",
     "text": [
      "5. Frequency of event types overall: \n",
      "\tEvent type: issue\t\tEvents: 90\n",
      "\tEvent type: push\t\tEvents: 79\n",
      "\tEvent type: issue-comment\t\tEvents: 57\n",
      "\tEvent type: pull-request\t\tEvents: 45\n"
     ]
    }
   ],
   "source": [
    "# 5. Frequence of event types overall\n",
    "esq.event_frequency_overall(es)"
   ]
  },
  {
   "cell_type": "code",
   "execution_count": 9,
   "metadata": {},
   "outputs": [
    {
     "name": "stdout",
     "output_type": "stream",
     "text": [
      "6. Frequency of event types per team: \n",
      "\tTeam: A\n",
      "\t\tEvent type: issue\t\tEvents: 24\n",
      "\t\tEvent type: push\t\tEvents: 17\n",
      "\t\tEvent type: issue-comment\t\tEvents: 10\n",
      "\t\tEvent type: pull-request\t\tEvents: 10\n",
      "\tTeam: C\n",
      "\t\tEvent type: issue\t\tEvents: 19\n",
      "\t\tEvent type: push\t\tEvents: 16\n",
      "\t\tEvent type: pull-request\t\tEvents: 14\n",
      "\t\tEvent type: issue-comment\t\tEvents: 11\n",
      "\tTeam: E\n",
      "\t\tEvent type: issue\t\tEvents: 24\n",
      "\t\tEvent type: push\t\tEvents: 15\n",
      "\t\tEvent type: issue-comment\t\tEvents: 10\n",
      "\t\tEvent type: pull-request\t\tEvents: 7\n",
      "\tTeam: D\n",
      "\t\tEvent type: push\t\tEvents: 20\n",
      "\t\tEvent type: issue-comment\t\tEvents: 15\n",
      "\t\tEvent type: issue\t\tEvents: 14\n",
      "\t\tEvent type: pull-request\t\tEvents: 6\n",
      "\tTeam: B\n",
      "\t\tEvent type: push\t\tEvents: 15\n",
      "\t\tEvent type: issue\t\tEvents: 12\n",
      "\t\tEvent type: issue-comment\t\tEvents: 11\n",
      "\t\tEvent type: pull-request\t\tEvents: 11\n"
     ]
    }
   ],
   "source": [
    "# 6. Frequence of event types per team\n",
    "esq.event_frequency_team(es)"
   ]
  },
  {
   "cell_type": "code",
   "execution_count": 10,
   "metadata": {},
   "outputs": [
    {
     "name": "stdout",
     "output_type": "stream",
     "text": [
      "7. Frequency of event types per repo: \n",
      "\tRepo: proj1\n",
      "\t\tEvent type: push\t\tEvents: 48\n",
      "\t\tEvent type: issue\t\tEvents: 47\n",
      "\t\tEvent type: pull-request\t\tEvents: 27\n",
      "\t\tEvent type: issue-comment\t\tEvents: 23\n",
      "\tRepo: proj2\n",
      "\t\tEvent type: issue\t\tEvents: 24\n",
      "\t\tEvent type: issue-comment\t\tEvents: 19\n",
      "\t\tEvent type: push\t\tEvents: 18\n",
      "\t\tEvent type: pull-request\t\tEvents: 9\n",
      "\tRepo: proj3\n",
      "\t\tEvent type: issue\t\tEvents: 17\n",
      "\t\tEvent type: push\t\tEvents: 13\n",
      "\t\tEvent type: issue-comment\t\tEvents: 11\n",
      "\t\tEvent type: pull-request\t\tEvents: 8\n",
      "\tRepo: proj4\n",
      "\t\tEvent type: issue\t\tEvents: 5\n",
      "\t\tEvent type: issue-comment\t\tEvents: 4\n",
      "\t\tEvent type: pull-request\t\tEvents: 4\n",
      "\t\tEvent type: push\t\tEvents: 4\n"
     ]
    }
   ],
   "source": [
    "# 7. Frequency of event types per repo\n",
    "esq.event_frequency_repo(es)"
   ]
  },
  {
   "cell_type": "code",
   "execution_count": 11,
   "metadata": {},
   "outputs": [
    {
     "name": "stdout",
     "output_type": "stream",
     "text": [
      "8. Average Time Difference between events per team: \n",
      "\tTeam: A\t\tTime Difference: 4419.3 milliseconds\n",
      "\tTeam: C\t\tTime Difference: 4748.55932203 milliseconds\n",
      "\tTeam: D\t\tTime Difference: 5056.57142857 milliseconds\n",
      "\tTeam: E\t\tTime Difference: 4949.33928571 milliseconds\n",
      "\tTeam: B\t\tTime Difference: 5370.48979592 milliseconds\n"
     ]
    }
   ],
   "source": [
    "# 8. Average time difference between events per team\n",
    "esq.event_time_difference_team(es)"
   ]
  },
  {
   "cell_type": "code",
   "execution_count": 12,
   "metadata": {},
   "outputs": [
    {
     "name": "stdout",
     "output_type": "stream",
     "text": [
      "9. Average Time Difference between same events per team: \n",
      "\tTeam: A\n",
      "\t\tEvent: issue\t\tTime Difference: 11528.6086957 milliseconds\n",
      "\t\tEvent: push\t\tTime Difference: 15884.3125 milliseconds\n",
      "\t\tEvent: issue-comment\t\tTime Difference: 23124.4444444 milliseconds\n",
      "\t\tEvent: pull-request\t\tTime Difference: 26459.6666667 milliseconds\n",
      "\tTeam: C\n",
      "\t\tEvent: issue\t\tTime Difference: 12674.0 milliseconds\n",
      "\t\tEvent: push\t\tTime Difference: 18677.6666667 milliseconds\n",
      "\t\tEvent: pull-request\t\tTime Difference: 21089.3076923 milliseconds\n",
      "\t\tEvent: issue-comment\t\tTime Difference: 23213.9 milliseconds\n",
      "\tTeam: D\n",
      "\t\tEvent: push\t\tTime Difference: 14219.0526316 milliseconds\n",
      "\t\tEvent: issue-comment\t\tTime Difference: 18296.4285714 milliseconds\n",
      "\t\tEvent: issue\t\tTime Difference: 20396.6923077 milliseconds\n",
      "\t\tEvent: pull-request\t\tTime Difference: 32304.5714286 milliseconds\n",
      "\tTeam: E\n",
      "\t\tEvent: issue\t\tTime Difference: 11223.9565217 milliseconds\n",
      "\t\tEvent: push\t\tTime Difference: 19797.3571429 milliseconds\n",
      "\t\tEvent: issue-comment\t\tTime Difference: 25715.1 milliseconds\n",
      "\t\tEvent: pull-request\t\tTime Difference: 40190.1666667 milliseconds\n",
      "\tTeam: B\n",
      "\t\tEvent: push\t\tTime Difference: 18796.7142857 milliseconds\n",
      "\t\tEvent: issue\t\tTime Difference: 20178.5 milliseconds\n",
      "\t\tEvent: issue-comment\t\tTime Difference: 19711.6 milliseconds\n",
      "\t\tEvent: pull-request\t\tTime Difference: 17610.1 milliseconds\n"
     ]
    }
   ],
   "source": [
    "# 9. Average time difference between same events per team\n",
    "esq.same_event_time_difference_team(es)"
   ]
  },
  {
   "cell_type": "code",
   "execution_count": null,
   "metadata": {
    "collapsed": true
   },
   "outputs": [],
   "source": []
  }
 ],
 "metadata": {
  "kernelspec": {
   "display_name": "Python 2",
   "language": "python",
   "name": "python2"
  },
  "language_info": {
   "codemirror_mode": {
    "name": "ipython",
    "version": 2
   },
   "file_extension": ".py",
   "mimetype": "text/x-python",
   "name": "python",
   "nbconvert_exporter": "python",
   "pygments_lexer": "ipython2",
   "version": "2.7.13"
  }
 },
 "nbformat": 4,
 "nbformat_minor": 2
}
