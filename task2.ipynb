{
 "cells": [
  {
   "cell_type": "code",
   "execution_count": 13,
   "metadata": {
    "collapsed": true
   },
   "outputs": [],
   "source": [
    "from elasticsearch import Elasticsearch\n",
    "from Queue import Queue\n",
    "from threading import Thread\n",
    "import time\n",
    "\n",
    "\n",
    "import esinitialization as esinit # contains all the functions to create index and mapping, clean rows, delete index\n",
    "import esquery as esq # contains all the functions to cater the queries"
   ]
  },
  {
   "cell_type": "markdown",
   "metadata": {},
   "source": [
    "### Initiate Elastic Search Instance"
   ]
  },
  {
   "cell_type": "code",
   "execution_count": 14,
   "metadata": {},
   "outputs": [
    {
     "name": "stdout",
     "output_type": "stream",
     "text": [
      "Index exist: Deletion of index in process\n",
      "New index created\n",
      "New mapping created\n"
     ]
    }
   ],
   "source": [
    "es = Elasticsearch(hosts=[\"127.0.0.1:9200\"], timeout=5000)\n",
    "esinit.clean_index(es)\n",
    "esinit.new_index_mapping(es)"
   ]
  },
  {
   "cell_type": "markdown",
   "metadata": {},
   "source": [
    "### Stream data insertion to Elastic Search DB"
   ]
  },
  {
   "cell_type": "code",
   "execution_count": 15,
   "metadata": {
    "collapsed": true
   },
   "outputs": [],
   "source": [
    "q = Queue(maxsize=0) #queue to keep the incoming event data\n",
    "num_threads = 10\n",
    "\n",
    "# Function to get the event and store it in the queue\n",
    "def get_stream(file_location):\n",
    "    file_location.seek(0,2)\n",
    "    timeout = time.time() + 10 # Iteration ends 10 seconds after stream ends\n",
    "    while True:\n",
    "        line = file_location.readline()\n",
    "        if line:\n",
    "            timeout = time.time() + 10 # Iteration ends 10 seconds after stream ends\n",
    "        else:\n",
    "            if(time.time() > timeout):\n",
    "                break\n",
    "            else:\n",
    "                continue\n",
    "        q.put(line)\n",
    "\n",
    "# Target function for threading, cleans the data and index it is the elastic search DB\n",
    "def es_insert(q):\n",
    "    while True:\n",
    "        clean_log = esinit.set_row(q.get())\n",
    "        es.index(index= clean_log['_index'], body= clean_log['_source'], doc_type= clean_log['_type'])\n",
    "        q.task_done()"
   ]
  },
  {
   "cell_type": "code",
   "execution_count": 16,
   "metadata": {},
   "outputs": [],
   "source": [
    "logfile = open(\"streaming_git.log\", \"r\")\n",
    "\n",
    "get_stream(logfile)\n",
    "\n",
    "\n",
    "for i in range(num_threads):\n",
    "    worker = Thread(target= es_insert, args=(q,))\n",
    "    worker.setDaemon(True)\n",
    "    worker.start()\n",
    "\n",
    "q.join()\n",
    "    \n",
    "logfile.close()"
   ]
  },
  {
   "cell_type": "markdown",
   "metadata": {},
   "source": [
    "### task3 - Answering the queries"
   ]
  },
  {
   "cell_type": "code",
   "execution_count": 17,
   "metadata": {},
   "outputs": [
    {
     "name": "stdout",
     "output_type": "stream",
     "text": [
      "1. Total number of teams: 5\n"
     ]
    }
   ],
   "source": [
    "# 1. Total number of teams\n",
    "esq.total_number_teams(es)"
   ]
  },
  {
   "cell_type": "code",
   "execution_count": 18,
   "metadata": {},
   "outputs": [
    {
     "name": "stdout",
     "output_type": "stream",
     "text": [
      "2. Number of active repos in each team: \n",
      "\tTeam: D\t\tActive repos: 2\n",
      "\tTeam: E\t\tActive repos: 3\n",
      "\tTeam: B\t\tActive repos: 3\n",
      "\tTeam: A\t\tActive repos: 1\n",
      "\tTeam: C\t\tActive repos: 4\n",
      "\n",
      "3. Total number of events per team: \n",
      "\tTeam: D\t\tEvents: 87\n",
      "\tTeam: E\t\tEvents: 82\n",
      "\tTeam: B\t\tEvents: 62\n",
      "\tTeam: A\t\tEvents: 55\n",
      "\tTeam: C\t\tEvents: 52\n"
     ]
    }
   ],
   "source": [
    "# 2. Number of active repos in each team\n",
    "# 3. Total number of events per team\n",
    "esq.events_repos_teams(es)"
   ]
  },
  {
   "cell_type": "code",
   "execution_count": 19,
   "metadata": {},
   "outputs": [
    {
     "name": "stdout",
     "output_type": "stream",
     "text": [
      "4. Total Number of events overall: 348\n"
     ]
    }
   ],
   "source": [
    "# 4. Total number of events overall\n",
    "esq.total_number_events(es)"
   ]
  },
  {
   "cell_type": "code",
   "execution_count": 20,
   "metadata": {},
   "outputs": [
    {
     "name": "stdout",
     "output_type": "stream",
     "text": [
      "5. Frequency of event types overall: \n",
      "\tEvent type: push\t\tEvents: 108\n",
      "\tEvent type: issue\t\tEvents: 105\n",
      "\tEvent type: pull-request\t\tEvents: 69\n",
      "\tEvent type: issue-comment\t\tEvents: 66\n"
     ]
    }
   ],
   "source": [
    "# 5. Frequence of event types overall\n",
    "esq.event_frequency_overall(es)"
   ]
  },
  {
   "cell_type": "code",
   "execution_count": 21,
   "metadata": {},
   "outputs": [
    {
     "name": "stdout",
     "output_type": "stream",
     "text": [
      "6. Frequency of event types per team: \n",
      "\tTeam: D\n",
      "\t\tEvent type: issue\t\tEvents: 34\n",
      "\t\tEvent type: push\t\tEvents: 23\n",
      "\t\tEvent type: issue-comment\t\tEvents: 17\n",
      "\t\tEvent type: pull-request\t\tEvents: 15\n",
      "\tTeam: E\n",
      "\t\tEvent type: issue\t\tEvents: 26\n",
      "\t\tEvent type: issue-comment\t\tEvents: 22\n",
      "\t\tEvent type: push\t\tEvents: 20\n",
      "\t\tEvent type: pull-request\t\tEvents: 18\n",
      "\tTeam: B\n",
      "\t\tEvent type: issue\t\tEvents: 21\n",
      "\t\tEvent type: push\t\tEvents: 21\n",
      "\t\tEvent type: issue-comment\t\tEvents: 11\n",
      "\t\tEvent type: pull-request\t\tEvents: 11\n",
      "\tTeam: A\n",
      "\t\tEvent type: push\t\tEvents: 24\n",
      "\t\tEvent type: pull-request\t\tEvents: 13\n",
      "\t\tEvent type: issue\t\tEvents: 11\n",
      "\t\tEvent type: issue-comment\t\tEvents: 8\n",
      "\tTeam: C\n",
      "\t\tEvent type: push\t\tEvents: 20\n",
      "\t\tEvent type: issue\t\tEvents: 13\n",
      "\t\tEvent type: pull-request\t\tEvents: 12\n",
      "\t\tEvent type: issue-comment\t\tEvents: 8\n"
     ]
    }
   ],
   "source": [
    "# 6. Frequence of event types per team\n",
    "esq.event_frequency_team(es)"
   ]
  },
  {
   "cell_type": "code",
   "execution_count": 22,
   "metadata": {},
   "outputs": [
    {
     "name": "stdout",
     "output_type": "stream",
     "text": [
      "7. Frequency of event types per repo: \n",
      "\tRepo: proj1\n",
      "\t\tEvent type: issue\t\tEvents: 46\n",
      "\t\tEvent type: push\t\tEvents: 45\n",
      "\t\tEvent type: pull-request\t\tEvents: 32\n",
      "\t\tEvent type: issue-comment\t\tEvents: 30\n",
      "\tRepo: proj2\n",
      "\t\tEvent type: issue\t\tEvents: 40\n",
      "\t\tEvent type: push\t\tEvents: 39\n",
      "\t\tEvent type: issue-comment\t\tEvents: 24\n",
      "\t\tEvent type: pull-request\t\tEvents: 20\n",
      "\tRepo: proj3\n",
      "\t\tEvent type: issue\t\tEvents: 17\n",
      "\t\tEvent type: push\t\tEvents: 16\n",
      "\t\tEvent type: pull-request\t\tEvents: 12\n",
      "\t\tEvent type: issue-comment\t\tEvents: 10\n",
      "\tRepo: proj4\n",
      "\t\tEvent type: push\t\tEvents: 8\n",
      "\t\tEvent type: pull-request\t\tEvents: 5\n",
      "\t\tEvent type: issue\t\tEvents: 2\n",
      "\t\tEvent type: issue-comment\t\tEvents: 2\n"
     ]
    }
   ],
   "source": [
    "# 7. Frequency of event types per repo\n",
    "esq.event_frequency_repo(es)"
   ]
  },
  {
   "cell_type": "code",
   "execution_count": 23,
   "metadata": {},
   "outputs": [
    {
     "name": "stdout",
     "output_type": "stream",
     "text": [
      "8. Average Time Difference between events per team: \n",
      "\tTeam: D\t\tTime Difference: 3840.14606742 milliseconds\n",
      "\tTeam: E\t\tTime Difference: 4102.39534884 milliseconds\n",
      "\tTeam: B\t\tTime Difference: 5120.6875 milliseconds\n",
      "\tTeam: A\t\tTime Difference: 5744.66071429 milliseconds\n",
      "\tTeam: C\t\tTime Difference: 6448.45283019 milliseconds\n"
     ]
    }
   ],
   "source": [
    "# 8. Average time difference between events per team\n",
    "esq.event_time_difference_team(es)"
   ]
  },
  {
   "cell_type": "code",
   "execution_count": 24,
   "metadata": {},
   "outputs": [
    {
     "name": "stdout",
     "output_type": "stream",
     "text": [
      "9. Average Time Difference between same events per team: \n",
      "\tTeam: D\n",
      "\t\tEvent: issue\t\tTime Difference: 9933.88235294 milliseconds\n",
      "\t\tEvent: push\t\tTime Difference: 14161.0 milliseconds\n",
      "\t\tEvent: issue-comment\t\tTime Difference: 20104.2941176 milliseconds\n",
      "\t\tEvent: pull-request\t\tTime Difference: 20179.1333333 milliseconds\n",
      "\tTeam: E\n",
      "\t\tEvent: issue\t\tTime Difference: 13530.9230769 milliseconds\n",
      "\t\tEvent: issue-comment\t\tTime Difference: 15306.1363636 milliseconds\n",
      "\t\tEvent: push\t\tTime Difference: 16988.55 milliseconds\n",
      "\t\tEvent: pull-request\t\tTime Difference: 18428.8333333 milliseconds\n",
      "\tTeam: B\n",
      "\t\tEvent: issue\t\tTime Difference: 15222.4761905 milliseconds\n",
      "\t\tEvent: push\t\tTime Difference: 14986.0 milliseconds\n",
      "\t\tEvent: issue-comment\t\tTime Difference: 20861.6363636 milliseconds\n",
      "\t\tEvent: pull-request\t\tTime Difference: 23957.5454545 milliseconds\n",
      "\tTeam: A\n",
      "\t\tEvent: push\t\tTime Difference: 11731.7083333 milliseconds\n",
      "\t\tEvent: pull-request\t\tTime Difference: 24281.8461538 milliseconds\n",
      "\t\tEvent: issue\t\tTime Difference: 29245.5454545 milliseconds\n",
      "\t\tEvent: issue-comment\t\tTime Difference: 34193.25 milliseconds\n",
      "\tTeam: C\n",
      "\t\tEvent: push\t\tTime Difference: 15783.2 milliseconds\n",
      "\t\tEvent: issue\t\tTime Difference: 25673.7692308 milliseconds\n",
      "\t\tEvent: pull-request\t\tTime Difference: 26975.0833333 milliseconds\n",
      "\t\tEvent: issue-comment\t\tTime Difference: 17557.125 milliseconds\n"
     ]
    }
   ],
   "source": [
    "# 9. Average time difference between same events per team\n",
    "esq.same_event_time_difference_team(es)"
   ]
  },
  {
   "cell_type": "code",
   "execution_count": null,
   "metadata": {
    "collapsed": true
   },
   "outputs": [],
   "source": []
  }
 ],
 "metadata": {
  "kernelspec": {
   "display_name": "Python 2",
   "language": "python",
   "name": "python2"
  },
  "language_info": {
   "codemirror_mode": {
    "name": "ipython",
    "version": 2
   },
   "file_extension": ".py",
   "mimetype": "text/x-python",
   "name": "python",
   "nbconvert_exporter": "python",
   "pygments_lexer": "ipython2",
   "version": "2.7.13"
  }
 },
 "nbformat": 4,
 "nbformat_minor": 2
}
