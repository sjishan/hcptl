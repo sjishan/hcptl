{
 "cells": [
  {
   "cell_type": "code",
   "execution_count": 1,
   "metadata": {},
   "outputs": [],
   "source": [
    "from elasticsearch import Elasticsearch\n",
    "from elasticsearch.helpers import bulk\n",
    "\n",
    "import esinitialization as esinit # contains all the functions to create index and mapping, clean rows, delete index\n",
    "import esquery as esq # contains all the functions to cater the queries"
   ]
  },
  {
   "cell_type": "markdown",
   "metadata": {},
   "source": [
    "### Initiate Elastic Search Instance"
   ]
  },
  {
   "cell_type": "code",
   "execution_count": 2,
   "metadata": {},
   "outputs": [
    {
     "name": "stdout",
     "output_type": "stream",
     "text": [
      "Index exist: Deletion of index in process\n",
      "New index created\n",
      "New mapping created\n"
     ]
    }
   ],
   "source": [
    "es = Elasticsearch(hosts=[\"127.0.0.1:9200\"], timeout=5000)\n",
    "esinit.clean_index(es)\n",
    "esinit.new_index_mapping(es)"
   ]
  },
  {
   "cell_type": "markdown",
   "metadata": {},
   "source": [
    "### Load the data and bulk insertion to Elastic Search DB"
   ]
  },
  {
   "cell_type": "code",
   "execution_count": 3,
   "metadata": {
    "collapsed": true
   },
   "outputs": [],
   "source": [
    "log_list = []\n",
    "\n",
    "with open(\"git-events.log\", \"r\") as log_file:\n",
    "    log_string = log_file.readlines()\n",
    "    \n",
    "for log in log_string:\n",
    "    log_list.append(esinit.set_row(log))"
   ]
  },
  {
   "cell_type": "code",
   "execution_count": 11,
   "metadata": {},
   "outputs": [
    {
     "data": {
      "text/plain": [
       "{'_index': 'events',\n",
       " '_source': {'created_at': '2017-09-19T19:39:24.312Z',\n",
       "  'event': 'issue',\n",
       "  'repo': 'proj1',\n",
       "  'team': 'B'},\n",
       " '_type': 'event'}"
      ]
     },
     "execution_count": 11,
     "metadata": {},
     "output_type": "execute_result"
    }
   ],
   "source": [
    "log_list[182]"
   ]
  },
  {
   "cell_type": "code",
   "execution_count": 4,
   "metadata": {
    "collapsed": true
   },
   "outputs": [],
   "source": [
    "success, _ = bulk(es, log_list, index = \"events\", raise_on_error = True)"
   ]
  },
  {
   "cell_type": "code",
   "execution_count": 5,
   "metadata": {},
   "outputs": [
    {
     "name": "stdout",
     "output_type": "stream",
     "text": [
      "10870\n"
     ]
    }
   ],
   "source": [
    "print success"
   ]
  },
  {
   "cell_type": "code",
   "execution_count": 14,
   "metadata": {},
   "outputs": [],
   "source": [
    "#es.index(index=log_list[14]['_index'], body=log_list[14]['_source'], doc_type=log_list[14]['_type'])"
   ]
  },
  {
   "cell_type": "markdown",
   "metadata": {},
   "source": [
    "### Answering the queries"
   ]
  },
  {
   "cell_type": "code",
   "execution_count": 6,
   "metadata": {},
   "outputs": [
    {
     "name": "stdout",
     "output_type": "stream",
     "text": [
      "1. Total number of teams: 4\n"
     ]
    }
   ],
   "source": [
    "# 1. Total number of teams\n",
    "esq.total_number_teams(es)"
   ]
  },
  {
   "cell_type": "code",
   "execution_count": 17,
   "metadata": {},
   "outputs": [
    {
     "name": "stdout",
     "output_type": "stream",
     "text": [
      "2. Number of active repos in each team: \n",
      "\tTeam: A\t\tActive repos: 3\n",
      "\tTeam: D\t\tActive repos: 2\n",
      "\tTeam: B\t\tActive repos: 2\n",
      "\tTeam: C\t\tActive repos: 4\n",
      "\n",
      "3. Total number of events per team: \n",
      "\tTeam: A\t\tEvents: 2783\n",
      "\tTeam: D\t\tEvents: 2772\n",
      "\tTeam: B\t\tEvents: 2709\n",
      "\tTeam: C\t\tEvents: 2606\n"
     ]
    }
   ],
   "source": [
    "# 2. Number of active repos in each team\n",
    "# 3. Total number of events per team\n",
    "esq.events_repos_teams(es)"
   ]
  },
  {
   "cell_type": "code",
   "execution_count": 18,
   "metadata": {},
   "outputs": [
    {
     "name": "stdout",
     "output_type": "stream",
     "text": [
      "4. Total Number of events overall: 10870\n"
     ]
    }
   ],
   "source": [
    "# 4. Total number of events overall\n",
    "esq.total_number_events(es)"
   ]
  },
  {
   "cell_type": "code",
   "execution_count": 19,
   "metadata": {},
   "outputs": [
    {
     "name": "stdout",
     "output_type": "stream",
     "text": [
      "5. Frequency of event types overall: \n",
      "\tEvent type: push\t\tEvents: 4000\n",
      "\tEvent type: issue\t\tEvents: 2899\n",
      "\tEvent type: pull-request\t\tEvents: 2036\n",
      "\tEvent type: issue-comment\t\tEvents: 1935\n"
     ]
    }
   ],
   "source": [
    "# 5. Frequence of event types overall\n",
    "esq.event_frequency_overall(es)"
   ]
  },
  {
   "cell_type": "code",
   "execution_count": 20,
   "metadata": {},
   "outputs": [
    {
     "name": "stdout",
     "output_type": "stream",
     "text": [
      "6. Frequency of event types per team: \n",
      "\tTeam: A\n",
      "\t\tEvent type: push\t\tEvents: 1009\n",
      "\t\tEvent type: issue\t\tEvents: 726\n",
      "\t\tEvent type: pull-request\t\tEvents: 557\n",
      "\t\tEvent type: issue-comment\t\tEvents: 491\n",
      "\tTeam: D\n",
      "\t\tEvent type: push\t\tEvents: 1022\n",
      "\t\tEvent type: issue\t\tEvents: 742\n",
      "\t\tEvent type: issue-comment\t\tEvents: 508\n",
      "\t\tEvent type: pull-request\t\tEvents: 500\n",
      "\tTeam: B\n",
      "\t\tEvent type: push\t\tEvents: 1023\n",
      "\t\tEvent type: issue\t\tEvents: 736\n",
      "\t\tEvent type: pull-request\t\tEvents: 497\n",
      "\t\tEvent type: issue-comment\t\tEvents: 453\n",
      "\tTeam: C\n",
      "\t\tEvent type: push\t\tEvents: 946\n",
      "\t\tEvent type: issue\t\tEvents: 695\n",
      "\t\tEvent type: issue-comment\t\tEvents: 483\n",
      "\t\tEvent type: pull-request\t\tEvents: 482\n"
     ]
    }
   ],
   "source": [
    "# 6. Frequence of event types per team\n",
    "esq.event_frequency_team(es)"
   ]
  },
  {
   "cell_type": "code",
   "execution_count": 21,
   "metadata": {},
   "outputs": [
    {
     "name": "stdout",
     "output_type": "stream",
     "text": [
      "7. Frequency of event types per repo: \n",
      "\tRepo: proj1\n",
      "\t\tEvent type: push\t\tEvents: 1644\n",
      "\t\tEvent type: issue\t\tEvents: 1191\n",
      "\t\tEvent type: pull-request\t\tEvents: 838\n",
      "\t\tEvent type: issue-comment\t\tEvents: 769\n",
      "\tRepo: proj2\n",
      "\t\tEvent type: push\t\tEvents: 1597\n",
      "\t\tEvent type: issue\t\tEvents: 1131\n",
      "\t\tEvent type: pull-request\t\tEvents: 770\n",
      "\t\tEvent type: issue-comment\t\tEvents: 750\n",
      "\tRepo: proj3\n",
      "\t\tEvent type: push\t\tEvents: 518\n",
      "\t\tEvent type: issue\t\tEvents: 414\n",
      "\t\tEvent type: pull-request\t\tEvents: 309\n",
      "\t\tEvent type: issue-comment\t\tEvents: 303\n",
      "\tRepo: proj4\n",
      "\t\tEvent type: push\t\tEvents: 241\n",
      "\t\tEvent type: issue\t\tEvents: 163\n",
      "\t\tEvent type: pull-request\t\tEvents: 119\n",
      "\t\tEvent type: issue-comment\t\tEvents: 113\n"
     ]
    }
   ],
   "source": [
    "# 7. Frequency of event types per repo\n",
    "esq.event_frequency_repo(es)"
   ]
  },
  {
   "cell_type": "code",
   "execution_count": 22,
   "metadata": {},
   "outputs": [
    {
     "name": "stdout",
     "output_type": "stream",
     "text": [
      "8. Average Time Difference between events per team: \n",
      "\tTeam: A\t\tTime Difference: 41.2669780812 seconds\n",
      "\tTeam: D\t\tTime Difference: 41.4343434343 seconds\n",
      "\tTeam: B\t\tTime Difference: 42.3588039867 seconds\n",
      "\tTeam: C\t\tTime Difference: 44.0909439754 seconds\n"
     ]
    }
   ],
   "source": [
    "# 8. Average time difference between events per team\n",
    "esq.event_time_difference_team(es)"
   ]
  },
  {
   "cell_type": "code",
   "execution_count": 23,
   "metadata": {},
   "outputs": [
    {
     "name": "stdout",
     "output_type": "stream",
     "text": [
      "9. Average Time Difference between same events per team: \n",
      "\tTeam: A\n",
      "\t\tEvent: push\t\tTime Difference: 113.654112983 seconds\n",
      "\t\tEvent: issue\t\tTime Difference: 158.11707989 seconds\n",
      "\t\tEvent: pull-request\t\tTime Difference: 203.886894075 seconds\n",
      "\t\tEvent: issue-comment\t\tTime Difference: 233.452138493 seconds\n",
      "\tTeam: D\n",
      "\t\tEvent: push\t\tTime Difference: 112.383561644 seconds\n",
      "\t\tEvent: issue\t\tTime Difference: 154.002695418 seconds\n",
      "\t\tEvent: issue-comment\t\tTime Difference: 224.5 seconds\n",
      "\t\tEvent: pull-request\t\tTime Difference: 227.884 seconds\n",
      "\tTeam: B\n",
      "\t\tEvent: push\t\tTime Difference: 112.036168133 seconds\n",
      "\t\tEvent: issue\t\tTime Difference: 155.349184783 seconds\n",
      "\t\tEvent: pull-request\t\tTime Difference: 230.885311871 seconds\n",
      "\t\tEvent: issue-comment\t\tTime Difference: 252.863134658 seconds\n",
      "\tTeam: C\n",
      "\t\tEvent: push\t\tTime Difference: 121.325581395 seconds\n",
      "\t\tEvent: issue\t\tTime Difference: 165.050359712 seconds\n",
      "\t\tEvent: issue-comment\t\tTime Difference: 237.799171843 seconds\n",
      "\t\tEvent: pull-request\t\tTime Difference: 236.854771784 seconds\n"
     ]
    }
   ],
   "source": [
    "# 9. Average time difference between same events per team\n",
    "esq.same_event_time_difference_team(es)"
   ]
  },
  {
   "cell_type": "code",
   "execution_count": null,
   "metadata": {
    "collapsed": true
   },
   "outputs": [],
   "source": []
  }
 ],
 "metadata": {
  "kernelspec": {
   "display_name": "Python 2",
   "language": "python",
   "name": "python2"
  },
  "language_info": {
   "codemirror_mode": {
    "name": "ipython",
    "version": 2
   },
   "file_extension": ".py",
   "mimetype": "text/x-python",
   "name": "python",
   "nbconvert_exporter": "python",
   "pygments_lexer": "ipython2",
   "version": "2.7.13"
  }
 },
 "nbformat": 4,
 "nbformat_minor": 2
}
